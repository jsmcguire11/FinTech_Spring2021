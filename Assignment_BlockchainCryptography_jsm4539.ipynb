{
  "nbformat": 4,
  "nbformat_minor": 0,
  "metadata": {
    "colab": {
      "name": "Assignment_BlockchainCryptography_jsm4539.ipynb",
      "provenance": [],
      "collapsed_sections": []
    },
    "kernelspec": {
      "name": "python3",
      "display_name": "Python 3"
    }
  },
  "cells": [
    {
      "cell_type": "markdown",
      "metadata": {
        "id": "-KCenkL2A0Yo"
      },
      "source": [
        "**STEP 0 = Import Packages**"
      ]
    },
    {
      "cell_type": "code",
      "metadata": {
        "id": "7JrMHu4XAxEv"
      },
      "source": [
        "from sympy import mod_inverse\r\n",
        "import hashlib\r\n",
        "import os"
      ],
      "execution_count": 24,
      "outputs": []
    },
    {
      "cell_type": "markdown",
      "metadata": {
        "id": "_vB97QSNE4-w"
      },
      "source": [
        "**STEP 1 = Pick three pime numbers (P, Q and E), where E < (P x Q)**"
      ]
    },
    {
      "cell_type": "code",
      "metadata": {
        "id": "VmCwCs7vE4-y"
      },
      "source": [
        "p = 112481050639317229656723018120659623829736571015511322021617837187076258724819\r\n",
        "q = 89185111938335771293328323333111422985697062149139368049232365065924632677343\r\n",
        "e = 65537"
      ],
      "execution_count": 5,
      "outputs": []
    },
    {
      "cell_type": "markdown",
      "metadata": {
        "id": "8WAr8sTIE4-1"
      },
      "source": [
        "**STEP 2 = Establish the Public Keys (N, E)**"
      ]
    },
    {
      "cell_type": "code",
      "metadata": {
        "colab": {
          "base_uri": "https://localhost:8080/"
        },
        "id": "i9AKfaNgE4-0",
        "outputId": "7ef7c188-3c98-458f-98b4-b926047311c4"
      },
      "source": [
        "n = p*q\r\n",
        "print(n)"
      ],
      "execution_count": 6,
      "outputs": [
        {
          "output_type": "stream",
          "text": [
            "10031635092209121498674987861649022163771061565130441373555584537047455688991931937563110507506652959265182705476941444174840580049331773111276155053075917\n"
          ],
          "name": "stdout"
        }
      ]
    },
    {
      "cell_type": "code",
      "metadata": {
        "colab": {
          "base_uri": "https://localhost:8080/"
        },
        "id": "OI_iy7yyE4-1",
        "outputId": "0ae7a630-4429-4212-b683-931aef926bdd"
      },
      "source": [
        "print(\"The public keys are n = %s and e = %s\" %(n,e))"
      ],
      "execution_count": 7,
      "outputs": [
        {
          "output_type": "stream",
          "text": [
            "The public keys are n = 10031635092209121498674987861649022163771061565130441373555584537047455688991931937563110507506652959265182705476941444174840580049331773111276155053075917 and e = 65537\n"
          ],
          "name": "stdout"
        }
      ]
    },
    {
      "cell_type": "markdown",
      "metadata": {
        "id": "7jPR4sycE4-1"
      },
      "source": [
        "**STEP 3 = Compute Private Key (D)**"
      ]
    },
    {
      "cell_type": "code",
      "metadata": {
        "id": "wLEHn1P2E4-2"
      },
      "source": [
        "d=mod_inverse(e, (p-1)*(q-1))"
      ],
      "execution_count": 8,
      "outputs": []
    },
    {
      "cell_type": "code",
      "metadata": {
        "colab": {
          "base_uri": "https://localhost:8080/"
        },
        "id": "x7MRx9MbE4-2",
        "outputId": "9363402d-d6a5-496c-a818-383481dd5463"
      },
      "source": [
        "print(\"The private key d is = %s\" %d)"
      ],
      "execution_count": 9,
      "outputs": [
        {
          "output_type": "stream",
          "text": [
            "The private key d is = 6886694454027199678759881881737814611139109676622117091683160716943132564863007715345245794849719693156483947830169207322284232384798025277322134502462181\n"
          ],
          "name": "stdout"
        }
      ]
    },
    {
      "cell_type": "markdown",
      "metadata": {
        "id": "TIFcaTXbFyLp"
      },
      "source": [
        "**STEP 4 = Convert Plaintext Message (message) into a Number (M)**"
      ]
    },
    {
      "cell_type": "code",
      "metadata": {
        "colab": {
          "base_uri": "https://localhost:8080/"
        },
        "id": "OaTNixxHF4Zz",
        "outputId": "4f0ffbaf-4ec4-4088-c87d-1bcf7c04d380"
      },
      "source": [
        "message=\"Running late. Wait for me.\"\r\n",
        "print(message)"
      ],
      "execution_count": 10,
      "outputs": [
        {
          "output_type": "stream",
          "text": [
            "Running late. Wait for me.\n"
          ],
          "name": "stdout"
        }
      ]
    },
    {
      "cell_type": "code",
      "metadata": {
        "colab": {
          "base_uri": "https://localhost:8080/"
        },
        "id": "75_TGJ8ZGBsG",
        "outputId": "d29f3b80-a380-4f6c-c469-92ce4dabd73d"
      },
      "source": [
        "m = int.from_bytes(message.encode('utf-8'), \"big\")\r\n",
        "print(m)"
      ],
      "execution_count": 11,
      "outputs": [
        {
          "output_type": "stream",
          "text": [
            "132506048299782729601861890795689101374996562756163152523388206\n"
          ],
          "name": "stdout"
        }
      ]
    },
    {
      "cell_type": "markdown",
      "metadata": {
        "id": "PpMD04-6E4-2"
      },
      "source": [
        "**STEP 5 = Encrpyt the Plaintext Message as a Number (M) to the Ciphertext (C)**"
      ]
    },
    {
      "cell_type": "code",
      "metadata": {
        "id": "GTvGNPZvE4-2"
      },
      "source": [
        "c=pow(m,e,n)"
      ],
      "execution_count": 12,
      "outputs": []
    },
    {
      "cell_type": "code",
      "metadata": {
        "colab": {
          "base_uri": "https://localhost:8080/"
        },
        "id": "vRCe1aZcE4-3",
        "outputId": "d57fb28a-9622-4fb7-ff4e-3870e1ca2a7c"
      },
      "source": [
        "print(\"The encrypted message is %s\"%c)"
      ],
      "execution_count": 13,
      "outputs": [
        {
          "output_type": "stream",
          "text": [
            "The encrypted message is 5628730804056595371855684110576266781276706571005479901402626056646581913671537162886477174980769106939051646161443333500500835847610834908579566064478525\n"
          ],
          "name": "stdout"
        }
      ]
    },
    {
      "cell_type": "markdown",
      "metadata": {
        "id": "xp5FHtlkE4-3"
      },
      "source": [
        "**STEP 6 = Decrpyt the Ciphertext Response Message (cr) to bytes (cr_bytes), then from bytes (cr_bytes) to Plaintext (message_cr)**"
      ]
    },
    {
      "cell_type": "code",
      "metadata": {
        "id": "3SFyA7HxE4-3"
      },
      "source": [
        "cr=9029727923340384868426518880554167882611943065703927838617521515742066859974885947494642963883568408240430125599636824996577080116022919050269017033777667\r\n",
        "cr2=pow(cr,d,n)\r\n",
        "cr_bytes = cr2.to_bytes((cr2.bit_length() + 7) // 8, 'big')"
      ],
      "execution_count": 18,
      "outputs": []
    },
    {
      "cell_type": "code",
      "metadata": {
        "colab": {
          "base_uri": "https://localhost:8080/"
        },
        "id": "UbismRLbHW8g",
        "outputId": "da28779e-771f-4719-f551-0d1f217e2a3c"
      },
      "source": [
        "message_cr = cr_bytes.decode()\r\n",
        "print(message_cr)"
      ],
      "execution_count": 26,
      "outputs": [
        {
          "output_type": "stream",
          "text": [
            "Congrats! You just decrypted your first message!\n"
          ],
          "name": "stdout"
        }
      ]
    },
    {
      "cell_type": "markdown",
      "metadata": {
        "id": "lRpTtVXRCnA2"
      },
      "source": [
        "**STEP 7 = Sign a Signature Message (SHA-256 of message_cr) using (S)**"
      ]
    },
    {
      "cell_type": "code",
      "metadata": {
        "id": "uzBX4C6vCsIj",
        "colab": {
          "base_uri": "https://localhost:8080/"
        },
        "outputId": "d9fcb621-c86b-4ed8-d2ce-096abb93c7cd"
      },
      "source": [
        "m_hash = hashlib.sha256(b\"Congrats! You just decrypted your first message!\").hexdigest()\r\n",
        "print(m_hash)"
      ],
      "execution_count": 36,
      "outputs": [
        {
          "output_type": "stream",
          "text": [
            "c98b86cf748ca732199bbafb5bca1ac2db34416b198bf3906c6cf3bb19e2c015\n"
          ],
          "name": "stdout"
        }
      ]
    },
    {
      "cell_type": "code",
      "metadata": {
        "colab": {
          "base_uri": "https://localhost:8080/"
        },
        "id": "a1_AmIjtIpiC",
        "outputId": "6ae7d99a-dc5c-44a2-b4ba-0bbe7ae7412f"
      },
      "source": [
        "m_hash_int = int.from_bytes(m_hash.encode('utf-8'), \"big\")\r\n",
        "print(m_hash_int)"
      ],
      "execution_count": 37,
      "outputs": [
        {
          "output_type": "stream",
          "text": [
            "5196757236952167220763533464276920932199772536270749930947313681585064170024490586392502408018385385327118416752669008082891762309836988228207000058605877\n"
          ],
          "name": "stdout"
        }
      ]
    },
    {
      "cell_type": "code",
      "metadata": {
        "id": "DNtNkpq_DTX6",
        "colab": {
          "base_uri": "https://localhost:8080/"
        },
        "outputId": "15620a06-551c-44c1-a6e0-187ba48ea01c"
      },
      "source": [
        "s=pow(m_hash_int,d,n)\r\n",
        "print(s)"
      ],
      "execution_count": 38,
      "outputs": [
        {
          "output_type": "stream",
          "text": [
            "3141272798217254437841732019283821297853765608850884890749159341487650279071377864998607585732045317788354363036712706102305523253064683707241033589893839\n"
          ],
          "name": "stdout"
        }
      ]
    },
    {
      "cell_type": "code",
      "metadata": {
        "colab": {
          "base_uri": "https://localhost:8080/"
        },
        "id": "236sMeQaDVio",
        "outputId": "1233e72a-3af1-4698-833d-79ad29dee9d9"
      },
      "source": [
        "print(\"The hashed message is %s.  The signature is %s\" %(m_hash,s))"
      ],
      "execution_count": 39,
      "outputs": [
        {
          "output_type": "stream",
          "text": [
            "The hashed message is c98b86cf748ca732199bbafb5bca1ac2db34416b198bf3906c6cf3bb19e2c015.  The signature is 3141272798217254437841732019283821297853765608850884890749159341487650279071377864998607585732045317788354363036712706102305523253064683707241033589893839\n"
          ],
          "name": "stdout"
        }
      ]
    },
    {
      "cell_type": "markdown",
      "metadata": {
        "id": "PNrEwitgDl-g"
      },
      "source": [
        "**STEP 8 = Verify the hashed message (m_hash), as an integer, matches the signature (S)**"
      ]
    },
    {
      "cell_type": "code",
      "metadata": {
        "colab": {
          "base_uri": "https://localhost:8080/"
        },
        "id": "rr7cnlXAKovv",
        "outputId": "195a7545-c69e-4a80-d5f1-8002b57f2431"
      },
      "source": [
        "m_hash_int_check = int.from_bytes(\"c98b86cf748ca732199bbafb5bca1ac2db34416b198bf3906c6cf3bb19e2c015\".encode('utf-8'), \"big\")\r\n",
        "print(m_hash_int_check)"
      ],
      "execution_count": 40,
      "outputs": [
        {
          "output_type": "stream",
          "text": [
            "5196757236952167220763533464276920932199772536270749930947313681585064170024490586392502408018385385327118416752669008082891762309836988228207000058605877\n"
          ],
          "name": "stdout"
        }
      ]
    },
    {
      "cell_type": "code",
      "metadata": {
        "colab": {
          "base_uri": "https://localhost:8080/"
        },
        "id": "596GGlyGDpro",
        "outputId": "d5dc8980-5c3a-4222-b26e-d9a3a013ab63"
      },
      "source": [
        "s_check=pow(s,e,n)\r\n",
        "print(s_check)"
      ],
      "execution_count": 45,
      "outputs": [
        {
          "output_type": "stream",
          "text": [
            "5196757236952167220763533464276920932199772536270749930947313681585064170024490586392502408018385385327118416752669008082891762309836988228207000058605877\n"
          ],
          "name": "stdout"
        }
      ]
    },
    {
      "cell_type": "code",
      "metadata": {
        "colab": {
          "base_uri": "https://localhost:8080/"
        },
        "id": "3bxOkwIdLruV",
        "outputId": "baa9b8a2-80cf-4c9a-f01f-19d17b895271"
      },
      "source": [
        "print(m_hash_int_check)\r\n",
        "print(s_check)"
      ],
      "execution_count": 47,
      "outputs": [
        {
          "output_type": "stream",
          "text": [
            "5196757236952167220763533464276920932199772536270749930947313681585064170024490586392502408018385385327118416752669008082891762309836988228207000058605877\n",
            "5196757236952167220763533464276920932199772536270749930947313681585064170024490586392502408018385385327118416752669008082891762309836988228207000058605877\n"
          ],
          "name": "stdout"
        }
      ]
    }
  ]
}